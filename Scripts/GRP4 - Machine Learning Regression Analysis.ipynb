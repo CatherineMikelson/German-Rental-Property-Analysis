{
 "cells": [
  {
   "cell_type": "markdown",
   "id": "96226853",
   "metadata": {},
   "source": [
    "# Machine Learning Regression Analysis"
   ]
  },
  {
   "cell_type": "markdown",
   "id": "2749a1da",
   "metadata": {},
   "source": [
    "Table of Contents\n",
    "1. Import Libraries and Data\n",
    "2. Clean Data\n",
    "3. Data Prep for Regression Analysis\n",
    "4. Regression Analysis"
   ]
  },
  {
   "cell_type": "markdown",
   "id": "2c866c5a",
   "metadata": {},
   "source": [
    "## 1. Import Libraries and Data"
   ]
  },
  {
   "cell_type": "code",
   "execution_count": 1,
   "id": "59deb9fe",
   "metadata": {},
   "outputs": [],
   "source": [
    "import pandas as pd\n",
    "import numpy as np\n",
    "import seaborn as sns\n",
    "import matplotlib\n",
    "import matplotlib.pyplot as plt\n",
    "import os\n",
    "import sklearn\n",
    "from sklearn.model_selection import train_test_split \n",
    "from sklearn.linear_model import LinearRegression\n",
    "from sklearn.metrics import mean_squared_error, r2_score"
   ]
  },
  {
   "cell_type": "code",
   "execution_count": 2,
   "id": "7452c972",
   "metadata": {},
   "outputs": [],
   "source": [
    "# This option ensures that the graphs you create are displayed within the notebook without the need to \"call\" them specifically.\n",
    "\n",
    "%matplotlib inline"
   ]
  },
  {
   "cell_type": "code",
   "execution_count": 3,
   "id": "ea14cb44",
   "metadata": {},
   "outputs": [],
   "source": [
    "path = r'/Users/catherinemikelson/Desktop/Career Foundry/Acheivement 6 - Advanced Analytics and Dashboard Design/German Rental Property Analysis/Data/Prepared Data'"
   ]
  },
  {
   "cell_type": "code",
   "execution_count": 4,
   "id": "7efe6991",
   "metadata": {},
   "outputs": [],
   "source": [
    "df = pd.read_csv(os.path.join(path, 'apt_clean.csv'))"
   ]
  },
  {
   "cell_type": "code",
   "execution_count": 5,
   "id": "b6315738",
   "metadata": {},
   "outputs": [
    {
     "data": {
      "text/html": [
       "<div>\n",
       "<style scoped>\n",
       "    .dataframe tbody tr th:only-of-type {\n",
       "        vertical-align: middle;\n",
       "    }\n",
       "\n",
       "    .dataframe tbody tr th {\n",
       "        vertical-align: top;\n",
       "    }\n",
       "\n",
       "    .dataframe thead th {\n",
       "        text-align: right;\n",
       "    }\n",
       "</style>\n",
       "<table border=\"1\" class=\"dataframe\">\n",
       "  <thead>\n",
       "    <tr style=\"text-align: right;\">\n",
       "      <th></th>\n",
       "      <th>Unnamed: 0</th>\n",
       "      <th>state</th>\n",
       "      <th>utility cost</th>\n",
       "      <th>heating type</th>\n",
       "      <th>new construction</th>\n",
       "      <th>balcony</th>\n",
       "      <th>picturecount</th>\n",
       "      <th>pricetrend</th>\n",
       "      <th>year constructed</th>\n",
       "      <th>kitchen</th>\n",
       "      <th>...</th>\n",
       "      <th>base rent</th>\n",
       "      <th>condition</th>\n",
       "      <th>pets allowed</th>\n",
       "      <th>lift</th>\n",
       "      <th>type of flat</th>\n",
       "      <th>zipcode</th>\n",
       "      <th>number of rooms</th>\n",
       "      <th>garden</th>\n",
       "      <th>district</th>\n",
       "      <th>city</th>\n",
       "    </tr>\n",
       "  </thead>\n",
       "  <tbody>\n",
       "    <tr>\n",
       "      <th>0</th>\n",
       "      <td>0</td>\n",
       "      <td>Nordrhein_Westfalen</td>\n",
       "      <td>245.00</td>\n",
       "      <td>central_heating</td>\n",
       "      <td>False</td>\n",
       "      <td>False</td>\n",
       "      <td>6</td>\n",
       "      <td>4.62</td>\n",
       "      <td>1965.0</td>\n",
       "      <td>False</td>\n",
       "      <td>...</td>\n",
       "      <td>595.0</td>\n",
       "      <td>well_kept</td>\n",
       "      <td>NaN</td>\n",
       "      <td>False</td>\n",
       "      <td>ground_floor</td>\n",
       "      <td>44269</td>\n",
       "      <td>4.0</td>\n",
       "      <td>True</td>\n",
       "      <td>Dortmund</td>\n",
       "      <td>Schüren</td>\n",
       "    </tr>\n",
       "    <tr>\n",
       "      <th>1</th>\n",
       "      <td>1</td>\n",
       "      <td>Rheinland_Pfalz</td>\n",
       "      <td>134.00</td>\n",
       "      <td>self_contained_central_heating</td>\n",
       "      <td>False</td>\n",
       "      <td>True</td>\n",
       "      <td>8</td>\n",
       "      <td>3.47</td>\n",
       "      <td>1871.0</td>\n",
       "      <td>False</td>\n",
       "      <td>...</td>\n",
       "      <td>800.0</td>\n",
       "      <td>refurbished</td>\n",
       "      <td>no</td>\n",
       "      <td>False</td>\n",
       "      <td>ground_floor</td>\n",
       "      <td>67459</td>\n",
       "      <td>3.0</td>\n",
       "      <td>False</td>\n",
       "      <td>Rhein_Pfalz_Kreis</td>\n",
       "      <td>Böhl_Iggelheim</td>\n",
       "    </tr>\n",
       "    <tr>\n",
       "      <th>2</th>\n",
       "      <td>2</td>\n",
       "      <td>Sachsen</td>\n",
       "      <td>255.00</td>\n",
       "      <td>floor_heating</td>\n",
       "      <td>True</td>\n",
       "      <td>True</td>\n",
       "      <td>8</td>\n",
       "      <td>2.72</td>\n",
       "      <td>2019.0</td>\n",
       "      <td>False</td>\n",
       "      <td>...</td>\n",
       "      <td>965.0</td>\n",
       "      <td>first_time_use</td>\n",
       "      <td>NaN</td>\n",
       "      <td>True</td>\n",
       "      <td>apartment</td>\n",
       "      <td>1097</td>\n",
       "      <td>3.0</td>\n",
       "      <td>False</td>\n",
       "      <td>Dresden</td>\n",
       "      <td>Äußere_Neustadt_Antonstadt</td>\n",
       "    </tr>\n",
       "    <tr>\n",
       "      <th>3</th>\n",
       "      <td>3</td>\n",
       "      <td>Sachsen</td>\n",
       "      <td>58.15</td>\n",
       "      <td>district_heating</td>\n",
       "      <td>False</td>\n",
       "      <td>True</td>\n",
       "      <td>9</td>\n",
       "      <td>1.53</td>\n",
       "      <td>1964.0</td>\n",
       "      <td>False</td>\n",
       "      <td>...</td>\n",
       "      <td>343.0</td>\n",
       "      <td>NaN</td>\n",
       "      <td>NaN</td>\n",
       "      <td>False</td>\n",
       "      <td>other</td>\n",
       "      <td>9599</td>\n",
       "      <td>3.0</td>\n",
       "      <td>False</td>\n",
       "      <td>Mittelsachsen_Kreis</td>\n",
       "      <td>Freiberg</td>\n",
       "    </tr>\n",
       "    <tr>\n",
       "      <th>4</th>\n",
       "      <td>4</td>\n",
       "      <td>Bremen</td>\n",
       "      <td>138.00</td>\n",
       "      <td>self_contained_central_heating</td>\n",
       "      <td>False</td>\n",
       "      <td>True</td>\n",
       "      <td>19</td>\n",
       "      <td>2.46</td>\n",
       "      <td>1950.0</td>\n",
       "      <td>False</td>\n",
       "      <td>...</td>\n",
       "      <td>765.0</td>\n",
       "      <td>refurbished</td>\n",
       "      <td>NaN</td>\n",
       "      <td>False</td>\n",
       "      <td>apartment</td>\n",
       "      <td>28213</td>\n",
       "      <td>3.0</td>\n",
       "      <td>False</td>\n",
       "      <td>Bremen</td>\n",
       "      <td>Neu_Schwachhausen</td>\n",
       "    </tr>\n",
       "  </tbody>\n",
       "</table>\n",
       "<p>5 rows × 21 columns</p>\n",
       "</div>"
      ],
      "text/plain": [
       "   Unnamed: 0                state  utility cost  \\\n",
       "0           0  Nordrhein_Westfalen        245.00   \n",
       "1           1      Rheinland_Pfalz        134.00   \n",
       "2           2              Sachsen        255.00   \n",
       "3           3              Sachsen         58.15   \n",
       "4           4               Bremen        138.00   \n",
       "\n",
       "                     heating type  new construction  balcony  picturecount  \\\n",
       "0                 central_heating             False    False             6   \n",
       "1  self_contained_central_heating             False     True             8   \n",
       "2                   floor_heating              True     True             8   \n",
       "3                district_heating             False     True             9   \n",
       "4  self_contained_central_heating             False     True            19   \n",
       "\n",
       "   pricetrend  year constructed  kitchen  ...  base rent       condition  \\\n",
       "0        4.62            1965.0    False  ...      595.0       well_kept   \n",
       "1        3.47            1871.0    False  ...      800.0     refurbished   \n",
       "2        2.72            2019.0    False  ...      965.0  first_time_use   \n",
       "3        1.53            1964.0    False  ...      343.0             NaN   \n",
       "4        2.46            1950.0    False  ...      765.0     refurbished   \n",
       "\n",
       "  pets allowed   lift  type of flat zipcode  number of rooms  garden  \\\n",
       "0          NaN  False  ground_floor   44269              4.0    True   \n",
       "1           no  False  ground_floor   67459              3.0   False   \n",
       "2          NaN   True     apartment    1097              3.0   False   \n",
       "3          NaN  False         other    9599              3.0   False   \n",
       "4          NaN  False     apartment   28213              3.0   False   \n",
       "\n",
       "              district                        city  \n",
       "0             Dortmund                     Schüren  \n",
       "1    Rhein_Pfalz_Kreis              Böhl_Iggelheim  \n",
       "2              Dresden  Äußere_Neustadt_Antonstadt  \n",
       "3  Mittelsachsen_Kreis                    Freiberg  \n",
       "4               Bremen           Neu_Schwachhausen  \n",
       "\n",
       "[5 rows x 21 columns]"
      ]
     },
     "execution_count": 5,
     "metadata": {},
     "output_type": "execute_result"
    }
   ],
   "source": [
    "df.head()"
   ]
  },
  {
   "cell_type": "markdown",
   "id": "39b87bed",
   "metadata": {},
   "source": [
    "## 2. Clean Data"
   ]
  },
  {
   "cell_type": "markdown",
   "id": "f4b97442",
   "metadata": {},
   "source": [
    "#### The data has already been cleaned.  Minimal outliers were removed, just those that are clearly erronious."
   ]
  },
  {
   "cell_type": "markdown",
   "id": "14a6a414",
   "metadata": {},
   "source": [
    "## 3. Data Prep for Regression Analysis"
   ]
  },
  {
   "cell_type": "markdown",
   "id": "cf24559f",
   "metadata": {},
   "source": [
    "#### Year Constructed vs. Base Rent"
   ]
  },
  {
   "cell_type": "code",
   "execution_count": 6,
   "id": "2775fa9c",
   "metadata": {},
   "outputs": [
    {
     "data": {
      "image/png": "[encoded data removed]",
      "text/plain": [
       "<Figure size 640x480 with 1 Axes>"
      ]
     },
     "metadata": {},
     "output_type": "display_data"
    }
   ],
   "source": [
    "# Create a scatterplot \n",
    "\n",
    "df.plot(x = 'year constructed', y='base rent',style='o') # The style option creates a scatterplot; without it, we only have lines.\n",
    "plt.title('Year Constructed vs. Cost of Rent')  \n",
    "plt.xlabel('Year Constructed')  \n",
    "plt.ylabel('Cost of Rent')  \n",
    "plt.show()"
   ]
  },
  {
   "cell_type": "markdown",
   "id": "82f05ffc",
   "metadata": {},
   "source": [
    "#### Note: There is an indication of increased rent prices in more modern builds, however, lower rent prices exists across all years."
   ]
  },
  {
   "cell_type": "markdown",
   "id": "07a40adc",
   "metadata": {},
   "source": [
    "#### Number of Rooms v. Base Rent"
   ]
  },
  {
   "cell_type": "code",
   "execution_count": 7,
   "id": "0ac5fba4",
   "metadata": {},
   "outputs": [
    {
     "data": {
      "image/png": "[encoded data removed]",
      "text/plain": [
       "<Figure size 640x480 with 1 Axes>"
      ]
     },
     "metadata": {},
     "output_type": "display_data"
    }
   ],
   "source": [
    "# Create a scatterplot \n",
    "\n",
    "df.plot(x = 'utility cost', y='base rent',style='o') # The style option creates a scatterplot; without it, we only have lines.\n",
    "plt.title('Cost of Utilities vs. Cost of Rent')  \n",
    "plt.xlabel('Cost of Utilities')  \n",
    "plt.ylabel('Cost of Rent')  \n",
    "plt.show()"
   ]
  },
  {
   "cell_type": "markdown",
   "id": "a1f86526",
   "metadata": {},
   "source": [
    "#### While there does seem to be a positive trend, there are many rental units that have no utility cost, which shows many observations at the 0 mark."
   ]
  },
  {
   "cell_type": "markdown",
   "id": "f6bf47ee",
   "metadata": {},
   "source": [
    "#### HYPOTHESIS: As year constructed increases, rent increases."
   ]
  },
  {
   "cell_type": "code",
   "execution_count": 8,
   "id": "ed1b9d00",
   "metadata": {},
   "outputs": [],
   "source": [
    "# Reshape the variables into NumPy arrays and put them into separate objects.\n",
    "\n",
    "X = df['year constructed'].values.reshape(-1,1)\n",
    "y = df['base rent'].values.reshape(-1,1)"
   ]
  },
  {
   "cell_type": "code",
   "execution_count": 9,
   "id": "bd57d6bd",
   "metadata": {},
   "outputs": [
    {
     "data": {
      "text/plain": [
       "array([[1965.],\n",
       "       [1871.],\n",
       "       [2019.],\n",
       "       ...,\n",
       "       [1965.],\n",
       "       [2019.],\n",
       "       [1972.]])"
      ]
     },
     "execution_count": 9,
     "metadata": {},
     "output_type": "execute_result"
    }
   ],
   "source": [
    "X"
   ]
  },
  {
   "cell_type": "code",
   "execution_count": 10,
   "id": "b010a8d4",
   "metadata": {},
   "outputs": [
    {
     "data": {
      "text/plain": [
       "array([[595.],\n",
       "       [800.],\n",
       "       [965.],\n",
       "       ...,\n",
       "       [650.],\n",
       "       [840.],\n",
       "       [935.]])"
      ]
     },
     "execution_count": 10,
     "metadata": {},
     "output_type": "execute_result"
    }
   ],
   "source": [
    "y"
   ]
  },
  {
   "cell_type": "code",
   "execution_count": 11,
   "id": "2f601317",
   "metadata": {},
   "outputs": [],
   "source": [
    "# Split data into a training set and a test set.\n",
    "\n",
    "X_train, X_test, y_train, y_test = train_test_split(X, y, test_size=0.3, random_state=0)"
   ]
  },
  {
   "cell_type": "markdown",
   "id": "93d850c9",
   "metadata": {},
   "source": [
    "## 4. Regression Analysis"
   ]
  },
  {
   "cell_type": "code",
   "execution_count": 12,
   "id": "41f42a83",
   "metadata": {},
   "outputs": [],
   "source": [
    "# Create a regression object.\n",
    "\n",
    "regression = LinearRegression()"
   ]
  },
  {
   "cell_type": "code",
   "execution_count": 13,
   "id": "560164b3",
   "metadata": {},
   "outputs": [
    {
     "data": {
      "text/plain": [
       "LinearRegression()"
      ]
     },
     "execution_count": 13,
     "metadata": {},
     "output_type": "execute_result"
    }
   ],
   "source": [
    "# Fit the regression object onto the training set.\n",
    "\n",
    "regression.fit(X_train, y_train)"
   ]
  },
  {
   "cell_type": "code",
   "execution_count": 14,
   "id": "589ff28e",
   "metadata": {},
   "outputs": [],
   "source": [
    "# Predict the values of y using X.\n",
    "\n",
    "y_predicted = regression.predict(X_test)"
   ]
  },
  {
   "cell_type": "code",
   "execution_count": 15,
   "id": "5d68e21c",
   "metadata": {},
   "outputs": [
    {
     "data": {
      "image/png": "[encoded data removed]",
      "text/plain": [
       "<Figure size 640x480 with 1 Axes>"
      ]
     },
     "metadata": {},
     "output_type": "display_data"
    }
   ],
   "source": [
    "# Create a plot that shows the regression line from the model on the test set.\n",
    "\n",
    "plot_test = plt\n",
    "plot_test.scatter(X_test, y_test, color='gray', s = 15)\n",
    "plot_test.plot(X_test, y_predicted, color='red', linewidth =3)\n",
    "plot_test.title('Year Constructed vs Base Rent (Test set)')\n",
    "plot_test.xlabel('Year Constructed')\n",
    "plot_test.ylabel('Base Rent')\n",
    "plot_test.show()"
   ]
  },
  {
   "cell_type": "markdown",
   "id": "c6151954",
   "metadata": {},
   "source": [
    "#### Note: The trend line does not fit the data points well, espeically the higher rents.  The points are too widely variable in rent cost.  "
   ]
  },
  {
   "cell_type": "code",
   "execution_count": 16,
   "id": "7f9c3267",
   "metadata": {},
   "outputs": [],
   "source": [
    "# Create objects that contain the model summary statistics.\n",
    "\n",
    "rmse = mean_squared_error(y_test, y_predicted) # This is the mean squared error\n",
    "r2 = r2_score(y_test, y_predicted) # This is the R2 score. "
   ]
  },
  {
   "cell_type": "code",
   "execution_count": 17,
   "id": "d604bc7c",
   "metadata": {},
   "outputs": [
    {
     "name": "stdout",
     "output_type": "stream",
     "text": [
      "Slope: [[2.24118195]]\n",
      "Mean squared error:  233912.15201585626\n",
      "R2 score:  0.030107965058405073\n"
     ]
    }
   ],
   "source": [
    "# Print the model summary statistics. This is where you evaluate the performance of the model.\n",
    "\n",
    "print('Slope:' ,regression.coef_)\n",
    "print('Mean squared error: ', rmse)\n",
    "print('R2 score: ', r2)"
   ]
  },
  {
   "cell_type": "code",
   "execution_count": 18,
   "id": "09f0b416",
   "metadata": {},
   "outputs": [
    {
     "data": {
      "text/html": [
       "<div>\n",
       "<style scoped>\n",
       "    .dataframe tbody tr th:only-of-type {\n",
       "        vertical-align: middle;\n",
       "    }\n",
       "\n",
       "    .dataframe tbody tr th {\n",
       "        vertical-align: top;\n",
       "    }\n",
       "\n",
       "    .dataframe thead th {\n",
       "        text-align: right;\n",
       "    }\n",
       "</style>\n",
       "<table border=\"1\" class=\"dataframe\">\n",
       "  <thead>\n",
       "    <tr style=\"text-align: right;\">\n",
       "      <th></th>\n",
       "      <th>Actual</th>\n",
       "      <th>Predicted</th>\n",
       "    </tr>\n",
       "  </thead>\n",
       "  <tbody>\n",
       "    <tr>\n",
       "      <th>0</th>\n",
       "      <td>421.45</td>\n",
       "      <td>667.243825</td>\n",
       "    </tr>\n",
       "    <tr>\n",
       "      <th>1</th>\n",
       "      <td>250.00</td>\n",
       "      <td>638.108460</td>\n",
       "    </tr>\n",
       "    <tr>\n",
       "      <th>2</th>\n",
       "      <td>261.00</td>\n",
       "      <td>494.672815</td>\n",
       "    </tr>\n",
       "    <tr>\n",
       "      <th>3</th>\n",
       "      <td>356.50</td>\n",
       "      <td>510.361089</td>\n",
       "    </tr>\n",
       "    <tr>\n",
       "      <th>4</th>\n",
       "      <td>435.00</td>\n",
       "      <td>658.279098</td>\n",
       "    </tr>\n",
       "    <tr>\n",
       "      <th>5</th>\n",
       "      <td>357.00</td>\n",
       "      <td>658.279098</td>\n",
       "    </tr>\n",
       "    <tr>\n",
       "      <th>6</th>\n",
       "      <td>1118.40</td>\n",
       "      <td>759.132285</td>\n",
       "    </tr>\n",
       "    <tr>\n",
       "      <th>7</th>\n",
       "      <td>184.12</td>\n",
       "      <td>680.690917</td>\n",
       "    </tr>\n",
       "    <tr>\n",
       "      <th>8</th>\n",
       "      <td>670.00</td>\n",
       "      <td>638.108460</td>\n",
       "    </tr>\n",
       "    <tr>\n",
       "      <th>9</th>\n",
       "      <td>420.00</td>\n",
       "      <td>658.279098</td>\n",
       "    </tr>\n",
       "    <tr>\n",
       "      <th>10</th>\n",
       "      <td>317.00</td>\n",
       "      <td>494.672815</td>\n",
       "    </tr>\n",
       "    <tr>\n",
       "      <th>11</th>\n",
       "      <td>2700.00</td>\n",
       "      <td>673.967371</td>\n",
       "    </tr>\n",
       "    <tr>\n",
       "      <th>12</th>\n",
       "      <td>1200.00</td>\n",
       "      <td>756.891104</td>\n",
       "    </tr>\n",
       "    <tr>\n",
       "      <th>13</th>\n",
       "      <td>830.00</td>\n",
       "      <td>658.279098</td>\n",
       "    </tr>\n",
       "    <tr>\n",
       "      <th>14</th>\n",
       "      <td>1400.00</td>\n",
       "      <td>494.672815</td>\n",
       "    </tr>\n",
       "    <tr>\n",
       "      <th>15</th>\n",
       "      <td>499.00</td>\n",
       "      <td>644.832006</td>\n",
       "    </tr>\n",
       "    <tr>\n",
       "      <th>16</th>\n",
       "      <td>415.00</td>\n",
       "      <td>539.496454</td>\n",
       "    </tr>\n",
       "    <tr>\n",
       "      <th>17</th>\n",
       "      <td>342.19</td>\n",
       "      <td>709.826283</td>\n",
       "    </tr>\n",
       "    <tr>\n",
       "      <th>18</th>\n",
       "      <td>230.50</td>\n",
       "      <td>629.143732</td>\n",
       "    </tr>\n",
       "    <tr>\n",
       "      <th>19</th>\n",
       "      <td>635.00</td>\n",
       "      <td>756.891104</td>\n",
       "    </tr>\n",
       "    <tr>\n",
       "      <th>20</th>\n",
       "      <td>313.00</td>\n",
       "      <td>582.078911</td>\n",
       "    </tr>\n",
       "    <tr>\n",
       "      <th>21</th>\n",
       "      <td>686.00</td>\n",
       "      <td>667.243825</td>\n",
       "    </tr>\n",
       "    <tr>\n",
       "      <th>22</th>\n",
       "      <td>464.00</td>\n",
       "      <td>494.672815</td>\n",
       "    </tr>\n",
       "    <tr>\n",
       "      <th>23</th>\n",
       "      <td>339.00</td>\n",
       "      <td>620.179004</td>\n",
       "    </tr>\n",
       "    <tr>\n",
       "      <th>24</th>\n",
       "      <td>798.00</td>\n",
       "      <td>658.279098</td>\n",
       "    </tr>\n",
       "    <tr>\n",
       "      <th>25</th>\n",
       "      <td>450.00</td>\n",
       "      <td>651.555552</td>\n",
       "    </tr>\n",
       "    <tr>\n",
       "      <th>26</th>\n",
       "      <td>230.00</td>\n",
       "      <td>712.067464</td>\n",
       "    </tr>\n",
       "    <tr>\n",
       "      <th>27</th>\n",
       "      <td>900.00</td>\n",
       "      <td>658.279098</td>\n",
       "    </tr>\n",
       "    <tr>\n",
       "      <th>28</th>\n",
       "      <td>329.75</td>\n",
       "      <td>651.555552</td>\n",
       "    </tr>\n",
       "    <tr>\n",
       "      <th>29</th>\n",
       "      <td>950.00</td>\n",
       "      <td>539.496454</td>\n",
       "    </tr>\n",
       "  </tbody>\n",
       "</table>\n",
       "</div>"
      ],
      "text/plain": [
       "     Actual   Predicted\n",
       "0    421.45  667.243825\n",
       "1    250.00  638.108460\n",
       "2    261.00  494.672815\n",
       "3    356.50  510.361089\n",
       "4    435.00  658.279098\n",
       "5    357.00  658.279098\n",
       "6   1118.40  759.132285\n",
       "7    184.12  680.690917\n",
       "8    670.00  638.108460\n",
       "9    420.00  658.279098\n",
       "10   317.00  494.672815\n",
       "11  2700.00  673.967371\n",
       "12  1200.00  756.891104\n",
       "13   830.00  658.279098\n",
       "14  1400.00  494.672815\n",
       "15   499.00  644.832006\n",
       "16   415.00  539.496454\n",
       "17   342.19  709.826283\n",
       "18   230.50  629.143732\n",
       "19   635.00  756.891104\n",
       "20   313.00  582.078911\n",
       "21   686.00  667.243825\n",
       "22   464.00  494.672815\n",
       "23   339.00  620.179004\n",
       "24   798.00  658.279098\n",
       "25   450.00  651.555552\n",
       "26   230.00  712.067464\n",
       "27   900.00  658.279098\n",
       "28   329.75  651.555552\n",
       "29   950.00  539.496454"
      ]
     },
     "execution_count": 18,
     "metadata": {},
     "output_type": "execute_result"
    }
   ],
   "source": [
    "# Create a dataframe comparing the actual and predicted values of y.\n",
    "\n",
    "data = pd.DataFrame({'Actual': y_test.flatten(), 'Predicted': y_predicted.flatten()})\n",
    "data.head(30)"
   ]
  },
  {
   "cell_type": "code",
   "execution_count": 19,
   "id": "7e8511b1",
   "metadata": {},
   "outputs": [
    {
     "data": {
      "text/html": [
       "<div>\n",
       "<style scoped>\n",
       "    .dataframe tbody tr th:only-of-type {\n",
       "        vertical-align: middle;\n",
       "    }\n",
       "\n",
       "    .dataframe tbody tr th {\n",
       "        vertical-align: top;\n",
       "    }\n",
       "\n",
       "    .dataframe thead th {\n",
       "        text-align: right;\n",
       "    }\n",
       "</style>\n",
       "<table border=\"1\" class=\"dataframe\">\n",
       "  <thead>\n",
       "    <tr style=\"text-align: right;\">\n",
       "      <th></th>\n",
       "      <th>Actual</th>\n",
       "      <th>Predicted</th>\n",
       "    </tr>\n",
       "  </thead>\n",
       "  <tbody>\n",
       "    <tr>\n",
       "      <th>0</th>\n",
       "      <td>421.45</td>\n",
       "      <td>667.243825</td>\n",
       "    </tr>\n",
       "    <tr>\n",
       "      <th>1</th>\n",
       "      <td>250.00</td>\n",
       "      <td>638.108460</td>\n",
       "    </tr>\n",
       "    <tr>\n",
       "      <th>2</th>\n",
       "      <td>261.00</td>\n",
       "      <td>494.672815</td>\n",
       "    </tr>\n",
       "    <tr>\n",
       "      <th>3</th>\n",
       "      <td>356.50</td>\n",
       "      <td>510.361089</td>\n",
       "    </tr>\n",
       "    <tr>\n",
       "      <th>4</th>\n",
       "      <td>435.00</td>\n",
       "      <td>658.279098</td>\n",
       "    </tr>\n",
       "    <tr>\n",
       "      <th>5</th>\n",
       "      <td>357.00</td>\n",
       "      <td>658.279098</td>\n",
       "    </tr>\n",
       "    <tr>\n",
       "      <th>6</th>\n",
       "      <td>1118.40</td>\n",
       "      <td>759.132285</td>\n",
       "    </tr>\n",
       "    <tr>\n",
       "      <th>7</th>\n",
       "      <td>184.12</td>\n",
       "      <td>680.690917</td>\n",
       "    </tr>\n",
       "    <tr>\n",
       "      <th>8</th>\n",
       "      <td>670.00</td>\n",
       "      <td>638.108460</td>\n",
       "    </tr>\n",
       "    <tr>\n",
       "      <th>9</th>\n",
       "      <td>420.00</td>\n",
       "      <td>658.279098</td>\n",
       "    </tr>\n",
       "    <tr>\n",
       "      <th>10</th>\n",
       "      <td>317.00</td>\n",
       "      <td>494.672815</td>\n",
       "    </tr>\n",
       "    <tr>\n",
       "      <th>11</th>\n",
       "      <td>2700.00</td>\n",
       "      <td>673.967371</td>\n",
       "    </tr>\n",
       "    <tr>\n",
       "      <th>12</th>\n",
       "      <td>1200.00</td>\n",
       "      <td>756.891104</td>\n",
       "    </tr>\n",
       "    <tr>\n",
       "      <th>13</th>\n",
       "      <td>830.00</td>\n",
       "      <td>658.279098</td>\n",
       "    </tr>\n",
       "    <tr>\n",
       "      <th>14</th>\n",
       "      <td>1400.00</td>\n",
       "      <td>494.672815</td>\n",
       "    </tr>\n",
       "    <tr>\n",
       "      <th>15</th>\n",
       "      <td>499.00</td>\n",
       "      <td>644.832006</td>\n",
       "    </tr>\n",
       "    <tr>\n",
       "      <th>16</th>\n",
       "      <td>415.00</td>\n",
       "      <td>539.496454</td>\n",
       "    </tr>\n",
       "    <tr>\n",
       "      <th>17</th>\n",
       "      <td>342.19</td>\n",
       "      <td>709.826283</td>\n",
       "    </tr>\n",
       "    <tr>\n",
       "      <th>18</th>\n",
       "      <td>230.50</td>\n",
       "      <td>629.143732</td>\n",
       "    </tr>\n",
       "    <tr>\n",
       "      <th>19</th>\n",
       "      <td>635.00</td>\n",
       "      <td>756.891104</td>\n",
       "    </tr>\n",
       "    <tr>\n",
       "      <th>20</th>\n",
       "      <td>313.00</td>\n",
       "      <td>582.078911</td>\n",
       "    </tr>\n",
       "    <tr>\n",
       "      <th>21</th>\n",
       "      <td>686.00</td>\n",
       "      <td>667.243825</td>\n",
       "    </tr>\n",
       "    <tr>\n",
       "      <th>22</th>\n",
       "      <td>464.00</td>\n",
       "      <td>494.672815</td>\n",
       "    </tr>\n",
       "    <tr>\n",
       "      <th>23</th>\n",
       "      <td>339.00</td>\n",
       "      <td>620.179004</td>\n",
       "    </tr>\n",
       "    <tr>\n",
       "      <th>24</th>\n",
       "      <td>798.00</td>\n",
       "      <td>658.279098</td>\n",
       "    </tr>\n",
       "    <tr>\n",
       "      <th>25</th>\n",
       "      <td>450.00</td>\n",
       "      <td>651.555552</td>\n",
       "    </tr>\n",
       "    <tr>\n",
       "      <th>26</th>\n",
       "      <td>230.00</td>\n",
       "      <td>712.067464</td>\n",
       "    </tr>\n",
       "    <tr>\n",
       "      <th>27</th>\n",
       "      <td>900.00</td>\n",
       "      <td>658.279098</td>\n",
       "    </tr>\n",
       "    <tr>\n",
       "      <th>28</th>\n",
       "      <td>329.75</td>\n",
       "      <td>651.555552</td>\n",
       "    </tr>\n",
       "    <tr>\n",
       "      <th>29</th>\n",
       "      <td>950.00</td>\n",
       "      <td>539.496454</td>\n",
       "    </tr>\n",
       "  </tbody>\n",
       "</table>\n",
       "</div>"
      ],
      "text/plain": [
       "     Actual   Predicted\n",
       "0    421.45  667.243825\n",
       "1    250.00  638.108460\n",
       "2    261.00  494.672815\n",
       "3    356.50  510.361089\n",
       "4    435.00  658.279098\n",
       "5    357.00  658.279098\n",
       "6   1118.40  759.132285\n",
       "7    184.12  680.690917\n",
       "8    670.00  638.108460\n",
       "9    420.00  658.279098\n",
       "10   317.00  494.672815\n",
       "11  2700.00  673.967371\n",
       "12  1200.00  756.891104\n",
       "13   830.00  658.279098\n",
       "14  1400.00  494.672815\n",
       "15   499.00  644.832006\n",
       "16   415.00  539.496454\n",
       "17   342.19  709.826283\n",
       "18   230.50  629.143732\n",
       "19   635.00  756.891104\n",
       "20   313.00  582.078911\n",
       "21   686.00  667.243825\n",
       "22   464.00  494.672815\n",
       "23   339.00  620.179004\n",
       "24   798.00  658.279098\n",
       "25   450.00  651.555552\n",
       "26   230.00  712.067464\n",
       "27   900.00  658.279098\n",
       "28   329.75  651.555552\n",
       "29   950.00  539.496454"
      ]
     },
     "execution_count": 19,
     "metadata": {},
     "output_type": "execute_result"
    }
   ],
   "source": [
    "# Create a dataframe comparing the actual and predicted values of y.\n",
    "\n",
    "data = pd.DataFrame({'Actual': y_test.flatten(), 'Predicted': y_predicted.flatten()})\n",
    "data.head(30)"
   ]
  },
  {
   "cell_type": "markdown",
   "id": "bc2f27ac",
   "metadata": {},
   "source": [
    "#### Note: The MSE is very high, not a reasonable level for this dataset.  The R2 score is also very low.  The actual vs. predicted values for this set are way off.  This is not a successful model for this data set.  "
   ]
  },
  {
   "cell_type": "code",
   "execution_count": null,
   "id": "4e106c56",
   "metadata": {},
   "outputs": [],
   "source": []
  },
  {
   "cell_type": "code",
   "execution_count": null,
   "id": "4f401f68",
   "metadata": {},
   "outputs": [],
   "source": []
  },
  {
   "cell_type": "code",
   "execution_count": null,
   "id": "1a042050",
   "metadata": {},
   "outputs": [],
   "source": []
  },
  {
   "cell_type": "code",
   "execution_count": null,
   "id": "5fa97437",
   "metadata": {},
   "outputs": [],
   "source": []
  }
 ],
 "metadata": {
  "kernelspec": {
   "display_name": "Python 3 (ipykernel)",
   "language": "python",
   "name": "python3"
  },
  "language_info": {
   "codemirror_mode": {
    "name": "ipython",
    "version": 3
   },
   "file_extension": ".py",
   "mimetype": "text/x-python",
   "name": "python",
   "nbconvert_exporter": "python",
   "pygments_lexer": "ipython3",
   "version": "3.9.13"
  }
 },
 "nbformat": 4,
 "nbformat_minor": 5
}
